{
 "cells": [
  {
   "cell_type": "markdown",
   "metadata": {},
   "source": [
    "# A BOT TO TARGET IMPOSTER ACCOUNTS\n",
    "<br>\n",
    "and punish them! please change the imposter account URL to match your own imposter\n",
    "<br>\n",
    "feel free using this code to punish whoever deserves it! ;)"
   ]
  },
  {
   "cell_type": "markdown",
   "metadata": {},
   "source": [
    "## STEP 1: WebDriver & Module Imports\n",
    "\n",
    "<b>Chrome Driver</b> : https://chromedriver.chromium.org/\n",
    "<br>\n",
    "<b>Firefox Driver</b> : https://github.com/mozilla/geckodriver/releases"
   ]
  },
  {
   "cell_type": "code",
   "execution_count": 137,
   "metadata": {},
   "outputs": [],
   "source": [
    "from selenium import webdriver\n",
    "from selenium.webdriver.common.keys import Keys\n",
    "from selenium.webdriver.support import expected_conditions as EC\n",
    "from selenium.webdriver.common.by import By\n",
    "from selenium.webdriver.support.wait import WebDriverWait\n",
    "import time \n",
    "import random "
   ]
  },
  {
   "cell_type": "markdown",
   "metadata": {},
   "source": [
    "## STEP 2: Create & Launch a Webdriver Object"
   ]
  },
  {
   "cell_type": "code",
   "execution_count": 138,
   "metadata": {},
   "outputs": [],
   "source": [
    "driver = webdriver.Firefox()\n",
    "driver.get(\"https://instagram.com\")"
   ]
  },
  {
   "cell_type": "markdown",
   "metadata": {},
   "source": [
    "## STEP 3: Log In\n",
    "<br>\n",
    "please change \"my_username\" and \"my_password\" to the info of ioyur dummy account!\n",
    "<br>\n",
    "not your personal account!!! as you might be banned from Instagram! \n",
    "<br>\n",
    "please make sure you open a new account that you're not worried about losing if you want to run this code!"
   ]
  },
  {
   "cell_type": "code",
   "execution_count": 139,
   "metadata": {},
   "outputs": [],
   "source": [
    "time.sleep(5)\n",
    "username = WebDriverWait(driver, 10).until(EC.element_to_be_clickable((By.CSS_SELECTOR, \"input[name='username']\")))\n",
    "password = WebDriverWait(driver, 10).until(EC.element_to_be_clickable((By.CSS_SELECTOR, \"input[name='password']\")))\n",
    "\n",
    "username.send_keys(\"my_username\")\n",
    "password.send_keys(\"my_password\")\n",
    "\n",
    "submit = WebDriverWait(driver, 10).until(EC.element_to_be_clickable((By.CSS_SELECTOR, \"button[type='submit']\"))).click()"
   ]
  },
  {
   "cell_type": "markdown",
   "metadata": {},
   "source": [
    "## STEP 4: Handle Alerts"
   ]
  },
  {
   "cell_type": "code",
   "execution_count": 140,
   "metadata": {},
   "outputs": [],
   "source": [
    "time.sleep(5)\n",
    "alert = WebDriverWait(driver, 10).until(EC.element_to_be_clickable((By.XPATH, \"//button[contains(text(), 'Not Now')]\"))).click()\n",
    "alert = WebDriverWait(driver, 10).until(EC.element_to_be_clickable((By.XPATH, \"//button[contains(text(), 'Not Now')]\"))).click()"
   ]
  },
  {
   "cell_type": "markdown",
   "metadata": {},
   "source": [
    "## STEP 5: Navigate to Imposter Account\n",
    "<br>\n",
    "please update the imposter account URL to your own imposter"
   ]
  },
  {
   "cell_type": "code",
   "execution_count": 141,
   "metadata": {},
   "outputs": [],
   "source": [
    "#navigate to imposter account\n",
    "driver.get(\"https://www.instagram.com/mariyasha8881/\")\n",
    "time.sleep(5)"
   ]
  },
  {
   "cell_type": "markdown",
   "metadata": {},
   "source": [
    "## STEP 6: Send The Imposter Direct Messages\n",
    "<br>\n",
    "please adjust messages to freak out your imposter"
   ]
  },
  {
   "cell_type": "code",
   "execution_count": null,
   "metadata": {},
   "outputs": [],
   "source": [
    "data = anchors[:3]\n",
    "greeting = [\"Hi\", \"Hello\", \"Hey\", \"Heeey\", \"Greetings\"]\n",
    "messages = [\" I saw your photos - but they are NOT yours! you're a NASTY imposter and we gonna get you!\",\n",
    "            \" The itsy bitsy spider crawled up your Instagram. Down came the rain, to wash the FAKER out\",\n",
    "            \" imposter! you must be so brave! I wouldn't mess with people who build bots for living\",\n",
    "            \" fake human being, you're not Mariya, no matter how hard you try!\",\n",
    "            \" , Fee-fi-fo-fum, I smell the blood of an ImposterMan.\",\n",
    "            \" fake fake faker!\",\n",
    "            \" imposter! how's it going? you know I'm just the first bot, right?\",\n",
    "            \" pretender! you know that we are legion, right?\",\n",
    "            \" faker! you know we will never stop, right?\",\n",
    "            \" buddy! no matter what you do - you know you will not get away, right?\"]\n",
    "\n",
    "#click on \"message\"\n",
    "dm = driver.find_elements_by_tag_name(\"button\")\n",
    "dm[0].click()\n",
    "\n",
    "for i in range(len(messages)):\n",
    "    time.sleep(2)\n",
    "    \n",
    "    #randomly select greetings and match them to messages\n",
    "    random_idx = random.randint(0, (len(greeting)-1))\n",
    "    my_comment = greeting[random_idx] + messages[i]\n",
    "    \n",
    "    text_area = driver.find_element_by_tag_name(\"textarea\")\n",
    "    text_area.click()\n",
    "    text_area.send_keys(my_comment)\n",
    "    \n",
    "    #click on \"send\"\n",
    "    submit = driver.find_elements_by_tag_name(\"button\")\n",
    "    submit[-1].click()\n",
    "\n",
    "    seconds = random.randint(1,10)\n",
    "    time.sleep(seconds)\n",
    "    print(\"I've waited for \" + str(seconds) + \"seconds\")   "
   ]
  },
  {
   "cell_type": "code",
   "execution_count": null,
   "metadata": {},
   "outputs": [],
   "source": []
  },
  {
   "cell_type": "code",
   "execution_count": null,
   "metadata": {},
   "outputs": [],
   "source": []
  },
  {
   "cell_type": "code",
   "execution_count": null,
   "metadata": {},
   "outputs": [],
   "source": []
  }
 ],
 "metadata": {
  "kernelspec": {
   "display_name": "Python 3",
   "language": "python",
   "name": "python3"
  },
  "language_info": {
   "codemirror_mode": {
    "name": "ipython",
    "version": 3
   },
   "file_extension": ".py",
   "mimetype": "text/x-python",
   "name": "python",
   "nbconvert_exporter": "python",
   "pygments_lexer": "ipython3",
   "version": "3.8.8"
  }
 },
 "nbformat": 4,
 "nbformat_minor": 4
}
