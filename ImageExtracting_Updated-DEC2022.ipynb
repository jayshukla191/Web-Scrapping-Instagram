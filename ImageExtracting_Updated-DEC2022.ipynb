{
 "cells": [
  {
   "cell_type": "markdown",
   "metadata": {},
   "source": [
    "## UPDATED! \n",
    "# Web Scraping Instagram with Selenium\n",
    "\n",
    "### AUTOMATING IMAGE EXTRACTION\n",
    "\n",
    "This Notebook is an <b>upgraded</b> version of the original Web Scraping Instagram with Selenium notebook.\n",
    "<br>\n",
    "This code is asjusted to fit the new Selenium Syntax (relevant to December 2022), and contains solutions for the issues that arrised in the comment section on YouTube/issues section on Github.\n",
    "<br>\n",
    "Also, this code is extracting the <b>full size images</b> and not the <b>thumbnails</b>, and it's a <b>100% automated</b>!\n",
    "\n",
    "Please let me know if you have any other problems that you haven't found a solution for in the comment section of the Youtube tutorial:\n",
    "<br>\n",
    "https://youtu.be/iJGvYBH9mcY\n",
    "\n",
    "### JUPYTER NOTEBOOK INSTRUCTIONS\n",
    "please click on \"Cell\" in the menu above and then \"Restart & Run All\" for 100% automation"
   ]
  },
  {
   "cell_type": "markdown",
   "metadata": {},
   "source": [
    "### INSTALL REQUIREMENTS"
   ]
  },
  {
   "cell_type": "code",
   "execution_count": null,
   "metadata": {},
   "outputs": [],
   "source": [
    "!pip install selenium\n",
    "!pip install wget\n",
    "# the library below automatically installs a Web Driver for any browser\n",
    "# please see OPTION2:INSTALL WEB DRIVER below\n",
    "!pip install webdriver_manager"
   ]
  },
  {
   "cell_type": "markdown",
   "metadata": {},
   "source": [
    "### IMPORT MODULES"
   ]
  },
  {
   "cell_type": "code",
   "execution_count": null,
   "metadata": {},
   "outputs": [],
   "source": [
    "#imports here\n",
    "from selenium import webdriver\n",
    "from selenium.webdriver.common.keys import Keys\n",
    "from selenium.webdriver.support import expected_conditions as EC\n",
    "from selenium.webdriver.common.by import By\n",
    "from selenium.webdriver.support.wait import WebDriverWait\n",
    "from selenium.webdriver.firefox.service import Service as FirefoxService\n",
    "from webdriver_manager.firefox import GeckoDriverManager\n",
    "import time"
   ]
  },
  {
   "cell_type": "markdown",
   "metadata": {},
   "source": [
    "### OPTION 1: DOWNLOAD WEB DRIVER\n",
    "You can download the latest stable release of <b>GekoDriver</b> from:\n",
    "<br>\n",
    "https://github.com/mozilla/geckodriver/releases\n",
    "\n",
    "### OPTION 2: INSTALL WEB DRIVER\n",
    "You can use the webdriver_manager you have installed 2 cell above\n",
    "<br>\n",
    "and pass it to `webdriver.Firefox()` which is much quicker (and cooler ;)) than option 1."
   ]
  },
  {
   "cell_type": "markdown",
   "metadata": {},
   "source": [
    "## Log In to  Instagram\n",
    "\n",
    "### DUMMY ACCOUNT\n",
    "please use a dummy account to automate Instagram! <b>DO NOT USE</b> your personal account!\n",
    "<br>\n",
    "if you're not sure what a dummy account is, check out my <a href=\"https://youtu.be/aSeqMYNhEHo\" target=\"_blank\">Twitter Bot YouTube tutorial</a> at minute 02:25.\n",
    "\n",
    "### DOWNLOADED WEB DRIVER\n",
    "if you've downloaded your web driver, as in <b>OPTION1</b>\n",
    "<br>\n",
    "please replace the first 2 lines of code with the following:\n",
    "\n",
    "```\n",
    "# OPTION 1: DOWNLOADED WEB DRIVER\n",
    "driver = webdriver.Firefox('C:/path/to/your/chromedriver.exe')\n",
    "```\n"
   ]
  },
  {
   "cell_type": "code",
   "execution_count": null,
   "metadata": {},
   "outputs": [],
   "source": [
    "# OPTION 2: USE INSTALLED WEB DRIVER\n",
    "driver = webdriver.Firefox(service=FirefoxService(GeckoDriverManager().install()))\n",
    "\n",
    "# open the webpage\n",
    "driver.get(\"http://www.instagram.com\")\n",
    "\n",
    "# target username\n",
    "username = WebDriverWait(driver, 10).until(EC.element_to_be_clickable((By.CSS_SELECTOR, \"input[name='username']\")))\n",
    "password = WebDriverWait(driver, 10).until(EC.element_to_be_clickable((By.CSS_SELECTOR, \"input[name='password']\")))\n",
    "\n",
    "# enter username and password\n",
    "username.clear()\n",
    "username.send_keys(\"my_username\")\n",
    "password.clear()\n",
    "password.send_keys(\"my_password\")\n",
    "\n",
    "# target the login button and click it\n",
    "button = WebDriverWait(driver, 2).until(EC.element_to_be_clickable((By.CSS_SELECTOR, \"button[type='submit']\"))).click()\n",
    "\n",
    "time.sleep(3)\n",
    "# We are logged in!"
   ]
  },
  {
   "cell_type": "markdown",
   "metadata": {},
   "source": [
    "## Handle Alerts\n",
    "\n",
    "you might only get a single alert, or you might get 2 of them\n",
    "<br>\n",
    "please adjust the cell below accordingly"
   ]
  },
  {
   "cell_type": "code",
   "execution_count": null,
   "metadata": {},
   "outputs": [],
   "source": [
    "alert = WebDriverWait(driver, 15).until(EC.element_to_be_clickable((By.XPATH, '//button[contains(text(), \"Not Now\")]'))).click()\n",
    "#alert2 = WebDriverWait(driver, 15).until(EC.element_to_be_clickable((By.XPATH, '//button[contains(text(), \"Not Now\")]'))).click()"
   ]
  },
  {
   "cell_type": "markdown",
   "metadata": {},
   "source": [
    "## Search for a certain hashtag"
   ]
  },
  {
   "cell_type": "code",
   "execution_count": null,
   "metadata": {},
   "outputs": [],
   "source": [
    "import time\n",
    "\n",
    "keyword = \"cat\"\n",
    "driver.get(\"https://www.instagram.com/explore/tags/\" + keyword + \"/\")\n",
    "\n",
    "time.sleep(3)"
   ]
  },
  {
   "cell_type": "markdown",
   "metadata": {},
   "source": [
    "## Scroll Down\n",
    "<br>\n",
    "Increase n_scrolls to select more photos (depending on screen resolution)\n",
    "<br>\n",
    "<b>Example:</b>\n",
    "<br>\n",
    "<ul>\n",
    "    <li>2 scrolls cover approx. 35 photos</li>\n",
    "    <li>3 scrolls cover approx. 45 photos</li>\n",
    "</ul>"
   ]
  },
  {
   "cell_type": "code",
   "execution_count": null,
   "metadata": {},
   "outputs": [],
   "source": [
    "n_scrolls = 2\n",
    "img_links = []\n",
    "\n",
    "for i in range(0, n_scrolls):  \n",
    "    # select all the anchor elements on the page\n",
    "    anchors = driver.find_elements(By.TAG_NAME, 'a')\n",
    "    # only keep their href attributes\n",
    "    anchors = [a.get_attribute('href') for a in anchors]\n",
    "    # filter links that do not start with instagram's prefix\n",
    "    anchors = [a for a in anchors if str(a).startswith(\"https://www.instagram.com/p/\")]\n",
    "    # store outside the for loop\n",
    "    img_links += anchors\n",
    "    print(\"added \" + str(len(anchors)) + \" links\")\n",
    "    \n",
    "    # scroll to the bottom of the current image batch\n",
    "    driver.execute_script(\"window.scrollTo(0, document.body.scrollHeight);\")\n",
    "    time.sleep(3)\n",
    "\n",
    "print('Found ' + str(len(img_links)) + ' links to images')\n",
    "img_links[:5]"
   ]
  },
  {
   "cell_type": "code",
   "execution_count": null,
   "metadata": {},
   "outputs": [],
   "source": [
    "images = []\n",
    "\n",
    "# iterate over extracted image links\n",
    "for a in img_links:\n",
    "    # open URL and wait\n",
    "    driver.get(a)\n",
    "    time.sleep(3)\n",
    "    \n",
    "    #find all image elements on the page\n",
    "    all_images = driver.find_elements(By.TAG_NAME, 'img')\n",
    "    \n",
    "    for i in all_images:\n",
    "        # filter images that do not start with an instagram prefix\n",
    "        src = i.get_attribute('src')\n",
    "        if str(src).startswith(\"https://instagram.fcxh2-1.fna.fbcdn.net/\"):\n",
    "            # store the image of interest and skip the rest of the images\n",
    "            images.append(src)\n",
    "            break\n",
    "            \n",
    "images[:5]"
   ]
  },
  {
   "cell_type": "markdown",
   "metadata": {},
   "source": [
    "## Save images to computer\n",
    "\n",
    "First we'll create a new folder for our images somewhere on our computer.\n",
    "<br>\n",
    "Then, we'll save all the images there."
   ]
  },
  {
   "cell_type": "code",
   "execution_count": null,
   "metadata": {},
   "outputs": [],
   "source": [
    "import os\n",
    "import wget\n",
    "\n",
    "path = os.getcwd()\n",
    "path = os.path.join(path, keyword)\n",
    "\n",
    "#create the directory\n",
    "os.mkdir(path)\n",
    "\n",
    "path"
   ]
  },
  {
   "cell_type": "code",
   "execution_count": null,
   "metadata": {},
   "outputs": [],
   "source": [
    "#download images\n",
    "\n",
    "for idx, image in enumerate(images):\n",
    "    save_as = os.path.join(path, keyword + str(idx) + '.jpg')\n",
    "    wget.download(image, save_as)"
   ]
  }
 ],
 "metadata": {
  "kernelspec": {
   "display_name": "Python 3",
   "language": "python",
   "name": "python3"
  },
  "language_info": {
   "codemirror_mode": {
    "name": "ipython",
    "version": 3
   },
   "file_extension": ".py",
   "mimetype": "text/x-python",
   "name": "python",
   "nbconvert_exporter": "python",
   "pygments_lexer": "ipython3",
   "version": "3.8.5"
  }
 },
 "nbformat": 4,
 "nbformat_minor": 4
}
